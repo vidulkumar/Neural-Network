{
  "nbformat": 4,
  "nbformat_minor": 0,
  "metadata": {
    "colab": {
      "name": "CNN",
      "provenance": [],
      "collapsed_sections": [],
      "include_colab_link": true
    },
    "kernelspec": {
      "name": "python3",
      "display_name": "Python 3"
    }
  },
  "cells": [
    {
      "cell_type": "markdown",
      "metadata": {
        "id": "view-in-github",
        "colab_type": "text"
      },
      "source": [
        "<a href=\"https://colab.research.google.com/github/vidulkumar/Neural-Network/blob/master/CNN.ipynb\" target=\"_parent\"><img src=\"https://colab.research.google.com/assets/colab-badge.svg\" alt=\"Open In Colab\"/></a>"
      ]
    },
    {
      "cell_type": "code",
      "metadata": {
        "id": "swfW4wRdLXkh",
        "colab_type": "code",
        "colab": {}
      },
      "source": [
        "from tensorflow import keras\n",
        "from keras.datasets import mnist\n",
        "from keras.models import Sequential\n",
        "from keras.optimizers import Adadelta\n",
        "from keras.layers import Dense, Dropout, Flatten\n",
        "from keras.layers import Conv2D, MaxPooling2D\n",
        "import numpy as np"
      ],
      "execution_count": 0,
      "outputs": []
    },
    {
      "cell_type": "code",
      "metadata": {
        "id": "_pv3dqefLgvp",
        "colab_type": "code",
        "outputId": "60c436ba-8fbd-45ea-b3d3-abc1e833b8d3",
        "colab": {
          "base_uri": "https://localhost:8080/",
          "height": 69
        }
      },
      "source": [
        "batch_size = 128\n",
        "num_classes = 10\n",
        "epochs = 12\n",
        "\n",
        "img_rows, img_cols = 28, 28\n",
        "\n",
        "(x_train, y_train), (x_test, y_test) = mnist.load_data()\n",
        "\n",
        "x_train = x_train.reshape(60000,28,28,1)\n",
        "x_test = x_test.reshape(10000,28,28,1)\n",
        "\n",
        "print('x_train shape:', x_train.shape)\n",
        "print(x_train.shape[0], 'train samples')\n",
        "print(x_test.shape[0], 'test samples')\n",
        "\n",
        "y_train = keras.utils.to_categorical(y_train, num_classes)\n",
        "y_test = keras.utils.to_categorical(y_test, num_classes)"
      ],
      "execution_count": 0,
      "outputs": [
        {
          "output_type": "stream",
          "text": [
            "x_train shape: (60000, 28, 28, 1)\n",
            "60000 train samples\n",
            "10000 test samples\n"
          ],
          "name": "stdout"
        }
      ]
    },
    {
      "cell_type": "code",
      "metadata": {
        "id": "5-uvNTCqL_N8",
        "colab_type": "code",
        "colab": {}
      },
      "source": [
        "model = Sequential()\n",
        "model.add(Conv2D(32, kernel_size=(3, 3),\n",
        "                 activation='relu',\n",
        "                 input_shape=(28,28,1)))\n",
        "model.add(Conv2D(64, (3, 3), activation='relu'))\n",
        "model.add(MaxPooling2D(pool_size=(2, 2)))\n",
        "model.add(Dropout(0.25))\n",
        "model.add(Flatten())\n",
        "model.add(Dense(128, activation='relu'))\n",
        "model.add(Dropout(0.5))\n",
        "model.add(Dense(num_classes, activation='softmax'))"
      ],
      "execution_count": 0,
      "outputs": []
    },
    {
      "cell_type": "code",
      "metadata": {
        "id": "XfM_P-UVMXLu",
        "colab_type": "code",
        "outputId": "ddf62b11-fbf1-4c18-e0fc-8895032e9e7c",
        "colab": {
          "base_uri": "https://localhost:8080/",
          "height": 593
        }
      },
      "source": [
        "model.compile(loss='categorical_crossentropy',\n",
        "              optimizer=Adadelta(),\n",
        "              metrics=['accuracy'])\n",
        "\n",
        "model.fit(x_train, y_train,\n",
        "          batch_size=batch_size,\n",
        "          epochs=epochs,\n",
        "          verbose=1,\n",
        "          validation_data=(x_test, y_test))\n",
        "score = model.evaluate(x_test, y_test, verbose=0)\n",
        "print('Test loss:', score[0])\n",
        "print('Test accuracy:', score[1])"
      ],
      "execution_count": 0,
      "outputs": [
        {
          "output_type": "stream",
          "text": [
            "WARNING:tensorflow:From /usr/local/lib/python3.6/dist-packages/keras/backend/tensorflow_backend.py:3576: The name tf.log is deprecated. Please use tf.math.log instead.\n",
            "\n",
            "WARNING:tensorflow:From /usr/local/lib/python3.6/dist-packages/tensorflow_core/python/ops/math_grad.py:1424: where (from tensorflow.python.ops.array_ops) is deprecated and will be removed in a future version.\n",
            "Instructions for updating:\n",
            "Use tf.where in 2.0, which has the same broadcast rule as np.where\n",
            "Train on 60000 samples, validate on 10000 samples\n",
            "Epoch 1/12\n",
            "60000/60000 [==============================] - 141s 2ms/step - loss: 0.1133 - acc: 0.9697 - val_loss: 0.0473 - val_acc: 0.9855\n",
            "Epoch 2/12\n",
            "60000/60000 [==============================] - 140s 2ms/step - loss: 0.0792 - acc: 0.9780 - val_loss: 0.0451 - val_acc: 0.9872\n",
            "Epoch 3/12\n",
            "60000/60000 [==============================] - 140s 2ms/step - loss: 0.0688 - acc: 0.9808 - val_loss: 0.0404 - val_acc: 0.9891\n",
            "Epoch 4/12\n",
            "60000/60000 [==============================] - 140s 2ms/step - loss: 0.0580 - acc: 0.9833 - val_loss: 0.0435 - val_acc: 0.9883\n",
            "Epoch 5/12\n",
            "60000/60000 [==============================] - 140s 2ms/step - loss: 0.0525 - acc: 0.9851 - val_loss: 0.0463 - val_acc: 0.9885\n",
            "Epoch 6/12\n",
            "60000/60000 [==============================] - 139s 2ms/step - loss: 0.0444 - acc: 0.9875 - val_loss: 0.0406 - val_acc: 0.9897\n",
            "Epoch 7/12\n",
            "60000/60000 [==============================] - 140s 2ms/step - loss: 0.0432 - acc: 0.9883 - val_loss: 0.0302 - val_acc: 0.9915\n",
            "Epoch 8/12\n",
            "60000/60000 [==============================] - 140s 2ms/step - loss: 0.0409 - acc: 0.9890 - val_loss: 0.0398 - val_acc: 0.9901\n",
            "Epoch 9/12\n",
            "60000/60000 [==============================] - 140s 2ms/step - loss: 0.0327 - acc: 0.9905 - val_loss: 0.0331 - val_acc: 0.9912\n",
            "Epoch 10/12\n",
            "60000/60000 [==============================] - 141s 2ms/step - loss: 0.0336 - acc: 0.9904 - val_loss: 0.0377 - val_acc: 0.9900\n",
            "Epoch 11/12\n",
            "60000/60000 [==============================] - 141s 2ms/step - loss: 0.0314 - acc: 0.9908 - val_loss: 0.0310 - val_acc: 0.9913\n",
            "Epoch 12/12\n",
            "60000/60000 [==============================] - 141s 2ms/step - loss: 0.0307 - acc: 0.9917 - val_loss: 0.0373 - val_acc: 0.9912\n",
            "Test loss: 0.03725590913386577\n",
            "Test accuracy: 0.9912\n"
          ],
          "name": "stdout"
        }
      ]
    },
    {
      "cell_type": "code",
      "metadata": {
        "id": "dUNZUxNENIz5",
        "colab_type": "code",
        "outputId": "f7060c0c-f703-4779-9a5d-edcb31b91ea2",
        "colab": {
          "base_uri": "https://localhost:8080/",
          "height": 300
        }
      },
      "source": [
        "(p_train, q_train), (p_test, q_test) = mnist.load_data()\n",
        "import numpy as np\n",
        "from matplotlib import pyplot as plt\n",
        "i = 100\n",
        "print(\"prediction is \",model.predict_classes(p_test[i].reshape(1,28,28,1)))\n",
        "print('Label',q_test[i])\n",
        "first_image = p_test[i]\n",
        "first_image = np.array(first_image, dtype='uint8')\n",
        "pixels = first_image.reshape((28, 28))\n",
        "plt.imshow(pixels, cmap='gray')\n",
        "plt.show()"
      ],
      "execution_count": 0,
      "outputs": [
        {
          "output_type": "stream",
          "text": [
            "prediction is  [6]\n",
            "Label 6\n"
          ],
          "name": "stdout"
        },
        {
          "output_type": "display_data",
          "data": {
            "image/png": "[encoded data removed]",
            "text/plain": [
              "<Figure size 432x288 with 1 Axes>"
            ]
          },
          "metadata": {
            "tags": []
          }
        }
      ]
    },
    {
      "cell_type": "code",
      "metadata": {
        "id": "KMwK4J0FU0kP",
        "colab_type": "code",
        "outputId": "06093f79-ab8d-400a-e989-849eb0ba8a98",
        "colab": {
          "base_uri": "https://localhost:8080/",
          "height": 317
        }
      },
      "source": [
        "#this code is to show errors in prediction by model\n",
        "for i in range(620,10000):\n",
        "  if model.predict_classes(p_test[i].reshape(1,28,28,1))[0]!=q_test[i]:\n",
        "    print(i)\n",
        "    print(\"prediction is \",model.predict_classes(p_test[i].reshape(1,28,28,1)))\n",
        "    print('Label',q_test[i])\n",
        "    first_image = p_test[i]\n",
        "    first_image = np.array(first_image, dtype='uint8')\n",
        "    pixels = first_image.reshape((28, 28))\n",
        "    plt.imshow(pixels, cmap='gray')\n",
        "    plt.show()\n",
        "    break"
      ],
      "execution_count": 0,
      "outputs": [
        {
          "output_type": "stream",
          "text": [
            "740\n",
            "prediction is  [9]\n",
            "Label 4\n"
          ],
          "name": "stdout"
        },
        {
          "output_type": "display_data",
          "data": {
            "image/png": "[encoded data removed]",
            "text/plain": [
              "<Figure size 432x288 with 1 Axes>"
            ]
          },
          "metadata": {
            "tags": []
          }
        }
      ]
    }
  ]
}