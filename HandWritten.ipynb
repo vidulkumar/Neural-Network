{
  "nbformat": 4,
  "nbformat_minor": 0,
  "metadata": {
    "colab": {
      "name": "HandWritten.ipynb",
      "provenance": [],
      "collapsed_sections": [],
      "include_colab_link": true
    },
    "kernelspec": {
      "name": "python3",
      "display_name": "Python 3"
    }
  },
  "cells": [
    {
      "cell_type": "markdown",
      "metadata": {
        "id": "view-in-github",
        "colab_type": "text"
      },
      "source": [
        "<a href=\"https://colab.research.google.com/github/vidulkumar/Neural-Network/blob/master/HandWritten.ipynb\" target=\"_parent\"><img src=\"https://colab.research.google.com/assets/colab-badge.svg\" alt=\"Open In Colab\"/></a>"
      ]
    },
    {
      "cell_type": "code",
      "metadata": {
        "id": "Qd1r-cr81Tib",
        "colab_type": "code",
        "outputId": "eeedf85d-649a-4201-fd08-90aab256f790",
        "colab": {
          "base_uri": "https://localhost:8080/",
          "height": 1000
        }
      },
      "source": [
        "'''Trains a simple deep NN on the MNIST dataset.\n",
        "Gets to 98.40% test accuracy after 20 epochs\n",
        "(there is *a lot* of margin for parameter tuning).\n",
        "2 seconds per epoch on a K520 GPU.\n",
        "'''\n",
        "\n",
        "from __future__ import print_function\n",
        "\n",
        "from tensorflow import keras\n",
        "from keras.datasets import mnist\n",
        "from keras.models import Sequential\n",
        "from keras.layers import Dense, Dropout\n",
        "from keras.optimizers import RMSprop,SGD\n",
        "\n",
        "batch_size = 128\n",
        "num_classes = 10\n",
        "epochs = 20\n",
        "\n",
        "# the data, split between train and test sets\n",
        "(x_train, y_train), (x_test, y_test) = mnist.load_data()\n",
        "\n",
        "x_train = x_train.reshape(60000, 784)\n",
        "x_test = x_test.reshape(10000, 784)\n",
        "x_train = x_train.astype('float32')\n",
        "x_test = x_test.astype('float32')\n",
        "x_train /= 255\n",
        "x_test /= 255\n",
        "print(x_train.shape[0], 'train samples')\n",
        "print(x_test.shape[0], 'test samples')\n",
        "\n",
        "# convert class vectors to binary class matrices\n",
        "y_train = keras.utils.to_categorical(y_train, num_classes)\n",
        "y_test = keras.utils.to_categorical(y_test, num_classes)\n",
        "\n",
        "model = Sequential()\n",
        "model.add(Dense(512, activation='relu', input_shape=(784,)))\n",
        "model.add(Dropout(0.2))\n",
        "model.add(Dense(512, activation='relu'))\n",
        "model.add(Dropout(0.2))\n",
        "model.add(Dense(num_classes, activation='softmax'))\n",
        "\n",
        "model.summary()\n",
        "\n",
        "model.compile(loss='categorical_crossentropy',\n",
        "              optimizer=RMSprop(),\n",
        "              metrics=['accuracy'])\n",
        "\n",
        "history = model.fit(x_train, y_train,\n",
        "                    batch_size=batch_size,\n",
        "                    epochs=epochs,\n",
        "                    verbose=1,\n",
        "                    validation_data=(x_test, y_test))\n",
        "score = model.evaluate(x_test, y_test, verbose=0)\n",
        "print('Test loss:', score[0])\n",
        "print('Test accuracy:', score[1])"
      ],
      "execution_count": 0,
      "outputs": [
        {
          "output_type": "stream",
          "text": [
            "60000 train samples\n",
            "10000 test samples\n",
            "Model: \"sequential_7\"\n",
            "_________________________________________________________________\n",
            "Layer (type)                 Output Shape              Param #   \n",
            "=================================================================\n",
            "dense_19 (Dense)             (None, 512)               401920    \n",
            "_________________________________________________________________\n",
            "dropout_13 (Dropout)         (None, 512)               0         \n",
            "_________________________________________________________________\n",
            "dense_20 (Dense)             (None, 512)               262656    \n",
            "_________________________________________________________________\n",
            "dropout_14 (Dropout)         (None, 512)               0         \n",
            "_________________________________________________________________\n",
            "dense_21 (Dense)             (None, 10)                5130      \n",
            "=================================================================\n",
            "Total params: 669,706\n",
            "Trainable params: 669,706\n",
            "Non-trainable params: 0\n",
            "_________________________________________________________________\n",
            "Train on 60000 samples, validate on 10000 samples\n",
            "Epoch 1/20\n",
            "60000/60000 [==============================] - 10s 161us/step - loss: 0.2446 - acc: 0.9244 - val_loss: 0.1339 - val_acc: 0.9555\n",
            "Epoch 2/20\n",
            "60000/60000 [==============================] - 9s 153us/step - loss: 0.1012 - acc: 0.9694 - val_loss: 0.0984 - val_acc: 0.9698\n",
            "Epoch 3/20\n",
            "60000/60000 [==============================] - 9s 155us/step - loss: 0.0772 - acc: 0.9767 - val_loss: 0.0769 - val_acc: 0.9778\n",
            "Epoch 4/20\n",
            "60000/60000 [==============================] - 9s 154us/step - loss: 0.0610 - acc: 0.9814 - val_loss: 0.0701 - val_acc: 0.9810\n",
            "Epoch 5/20\n",
            "60000/60000 [==============================] - 9s 153us/step - loss: 0.0515 - acc: 0.9846 - val_loss: 0.0745 - val_acc: 0.9813\n",
            "Epoch 6/20\n",
            "60000/60000 [==============================] - 9s 155us/step - loss: 0.0437 - acc: 0.9866 - val_loss: 0.0900 - val_acc: 0.9783\n",
            "Epoch 7/20\n",
            "60000/60000 [==============================] - 9s 154us/step - loss: 0.0380 - acc: 0.9891 - val_loss: 0.0715 - val_acc: 0.9815\n",
            "Epoch 8/20\n",
            "60000/60000 [==============================] - 9s 153us/step - loss: 0.0359 - acc: 0.9891 - val_loss: 0.0843 - val_acc: 0.9820\n",
            "Epoch 9/20\n",
            "60000/60000 [==============================] - 9s 154us/step - loss: 0.0317 - acc: 0.9910 - val_loss: 0.0798 - val_acc: 0.9822\n",
            "Epoch 10/20\n",
            "60000/60000 [==============================] - 9s 154us/step - loss: 0.0302 - acc: 0.9913 - val_loss: 0.0844 - val_acc: 0.9822\n",
            "Epoch 11/20\n",
            "60000/60000 [==============================] - 9s 152us/step - loss: 0.0283 - acc: 0.9923 - val_loss: 0.0888 - val_acc: 0.9808\n",
            "Epoch 12/20\n",
            "60000/60000 [==============================] - 9s 154us/step - loss: 0.0252 - acc: 0.9925 - val_loss: 0.0834 - val_acc: 0.9816\n",
            "Epoch 13/20\n",
            "60000/60000 [==============================] - 9s 154us/step - loss: 0.0238 - acc: 0.9933 - val_loss: 0.0889 - val_acc: 0.9847\n",
            "Epoch 14/20\n",
            "60000/60000 [==============================] - 9s 156us/step - loss: 0.0232 - acc: 0.9935 - val_loss: 0.0887 - val_acc: 0.9842\n",
            "Epoch 15/20\n",
            "60000/60000 [==============================] - 10s 159us/step - loss: 0.0202 - acc: 0.9946 - val_loss: 0.0875 - val_acc: 0.9853\n",
            "Epoch 16/20\n",
            "60000/60000 [==============================] - 9s 154us/step - loss: 0.0216 - acc: 0.9940 - val_loss: 0.0950 - val_acc: 0.9826\n",
            "Epoch 17/20\n",
            "60000/60000 [==============================] - 9s 154us/step - loss: 0.0187 - acc: 0.9949 - val_loss: 0.1147 - val_acc: 0.9829\n",
            "Epoch 18/20\n",
            "60000/60000 [==============================] - 9s 154us/step - loss: 0.0172 - acc: 0.9950 - val_loss: 0.1049 - val_acc: 0.9830\n",
            "Epoch 19/20\n",
            "60000/60000 [==============================] - 9s 155us/step - loss: 0.0176 - acc: 0.9953 - val_loss: 0.1199 - val_acc: 0.9826\n",
            "Epoch 20/20\n",
            "60000/60000 [==============================] - 9s 154us/step - loss: 0.0183 - acc: 0.9953 - val_loss: 0.1147 - val_acc: 0.9828\n",
            "Test loss: 0.11474721588229536\n",
            "Test accuracy: 0.9828\n"
          ],
          "name": "stdout"
        }
      ]
    },
    {
      "cell_type": "code",
      "metadata": {
        "id": "vCiCpOW6R4Le",
        "colab_type": "code",
        "colab": {}
      },
      "source": [
        "(p_train, q_train), (p_test, q_test) = mnist.load_data()\n",
        "import numpy as np\n",
        "#model.predict(p_test[1])\n",
        "#print('Label',q_test[1])"
      ],
      "execution_count": 0,
      "outputs": []
    },
    {
      "cell_type": "code",
      "metadata": {
        "id": "2eBQyipRTi4x",
        "colab_type": "code",
        "outputId": "0d39205a-6eb3-4c7d-d704-97f481514b98",
        "colab": {
          "base_uri": "https://localhost:8080/",
          "height": 300
        }
      },
      "source": [
        "\n",
        "\n",
        "i = 6\n",
        "print(\"prediction is \",model.predict_classes(p_test[i].reshape(1,784)))\n",
        "print('Label',q_test[i])\n",
        "first_image = p_test[i]\n",
        "first_image = np.array(first_image, dtype='uint8')\n",
        "pixels = first_image.reshape((28, 28))\n",
        "plt.imshow(pixels, cmap='gray')\n",
        "plt.show()"
      ],
      "execution_count": 0,
      "outputs": [
        {
          "output_type": "stream",
          "text": [
            "prediction is  [4]\n",
            "Label 4\n"
          ],
          "name": "stdout"
        },
        {
          "output_type": "display_data",
          "data": {
            "image/png": "[encoded data removed]",
            "text/plain": [
              "<Figure size 432x288 with 1 Axes>"
            ]
          },
          "metadata": {
            "tags": []
          }
        }
      ]
    },
    {
      "cell_type": "code",
      "metadata": {
        "id": "KMwK4J0FU0kP",
        "colab_type": "code",
        "outputId": "e0f0133d-5588-4fef-e81d-c6b5b4f43cfe",
        "colab": {
          "base_uri": "https://localhost:8080/",
          "height": 317
        }
      },
      "source": [
        "for i in range(448,10000):\n",
        "  if model.predict_classes(p_test[i].reshape(1,784))[0]!=q_test[i]:\n",
        "    print(i)\n",
        "    print(\"prediction is \",model.predict_classes(p_test[i].reshape(1,784)))\n",
        "    print('Label',q_test[i])\n",
        "    first_image = p_test[i]\n",
        "    first_image = np.array(first_image, dtype='uint8')\n",
        "    pixels = first_image.reshape((28, 28))\n",
        "    plt.imshow(pixels, cmap='gray')\n",
        "    plt.show()\n",
        "    break"
      ],
      "execution_count": 0,
      "outputs": [
        {
          "output_type": "stream",
          "text": [
            "448\n",
            "prediction is  [8]\n",
            "Label 9\n"
          ],
          "name": "stdout"
        },
        {
          "output_type": "display_data",
          "data": {
            "image/png": "[encoded data removed]",
            "text/plain": [
              "<Figure size 432x288 with 1 Axes>"
            ]
          },
          "metadata": {
            "tags": []
          }
        }
      ]
    }
  ]
}